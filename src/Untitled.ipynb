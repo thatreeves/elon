{
 "cells": [
  {
   "cell_type": "code",
   "execution_count": 51,
   "id": "ba5b9baa",
   "metadata": {},
   "outputs": [
    {
     "name": "stdout",
     "output_type": "stream",
     "text": [
      "/Users/matthew/Projects/Personal/elon/src/csvs\n"
     ]
    }
   ],
   "source": [
    "# importing the required modules\n",
    "import os\n",
    "import glob\n",
    "\n",
    "import csv\n",
    "\n",
    "selfclass=\"from-me\"\n",
    "otherclass=\"from-them\"\n",
    "\n",
    "frame = '''<div class=\"imessage\">\n",
    "            <div class=\"w-full flex flex-col\">\n",
    "                <div class=\"w-full flex flex-col justify-center\">\n",
    "                    <div class=\"flex self-center rounded-full w-24 h-24 bg-slate-100\">JJ</div>\n",
    "                    <p class=\"flex\">jack jack</p>\n",
    "                </div>\n",
    "                <div class=\"w-full flex flex-row justify-between\">\n",
    "                    <div class=\"flex \">Back btn</div>\n",
    "                    <div class=\"flex\">FT btn</div>\n",
    "                </div>\n",
    "            </div>\n",
    "            {0}\n",
    "            </div>'''\n",
    "\n",
    "messageFrame = '''<p class=\"{0}\">{1}</p>'''\n",
    "final = frame.format(messageFrame)\n",
    "\n",
    "\n",
    "\n",
    "cwd =\"\"\n",
    "cwd = os.getcwd()\n",
    "\n",
    "print(cwd)\n",
    "path = cwd\n",
    "os.chdir(path)\n",
    "all_files = glob.glob('*.csv')\n",
    "\n",
    "for file in all_files:\n",
    "    html =\"html/\"\n",
    "    filename=\"\"\n",
    "    filename = html+os.path.splitext(file)[0]+\".html\"\n",
    "    \n",
    "\n",
    "    with open(file, newline='') as csvfile:\n",
    "        reader = csv.DictReader(csvfile)\n",
    "        messageBlock = \"\"\n",
    "        for row in reader:\n",
    "            if row['Sender'] == \"Self\":\n",
    "                messageBlock = messageBlock+(messageFrame.format(selfclass, row['Content']))\n",
    "            else:\n",
    "                messageBlock = messageBlock+(messageFrame.format(otherclass, row['Content']))\n",
    "            finalHTML = frame.format(messageBlock)\n",
    "    \n",
    "    \n",
    "    # Creating an HTML file\n",
    "    Func = open(filename,\"w\")\n",
    "\n",
    "    # Adding input data to the HTML file\n",
    "    Func.write(finalHTML)\n",
    "\n",
    "    # Saving the data into the HTML file\n",
    "    Func.close()"
   ]
  }
 ],
 "metadata": {
  "kernelspec": {
   "display_name": "Python 3 (ipykernel)",
   "language": "python",
   "name": "python3"
  },
  "language_info": {
   "codemirror_mode": {
    "name": "ipython",
    "version": 3
   },
   "file_extension": ".py",
   "mimetype": "text/x-python",
   "name": "python",
   "nbconvert_exporter": "python",
   "pygments_lexer": "ipython3",
   "version": "3.10.0"
  }
 },
 "nbformat": 4,
 "nbformat_minor": 5
}
