{
 "cells": [
  {
   "cell_type": "code",
   "execution_count": 25,
   "id": "3f1ca909",
   "metadata": {},
   "outputs": [
    {
     "name": "stdout",
     "output_type": "stream",
     "text": [
      "<div class=\"imessage\">\n",
      "            <div class=\"w-full flex flex-col\">\n",
      "                <div class=\"w-full flex flex-col justify-center\">\n",
      "                    <div class=\"flex self-center rounded-full w-24 h-24 bg-slate-100\">JJ</div>\n",
      "                    <p class=\"flex\">jack jack</p>\n",
      "                </div>\n",
      "                <div class=\"w-full flex flex-row justify-between\">\n",
      "                    <div class=\"flex \">Back btn</div>\n",
      "                    <div class=\"flex\">FT btn</div>\n",
      "                </div>\n",
      "            </div>\n",
      "            <p class=\"{0}\">{1}</p>\n",
      "            </div>\n"
     ]
    }
   ],
   "source": [
    "import csv\n",
    "stuff = \"<div class='imessage {0}'>{1}</div>\"\n",
    "selfclass=\"from-me\"\n",
    "otherclass=\"from-them\"\n",
    "\n",
    "frame = '''<div class=\"imessage\">\n",
    "            <div class=\"w-full flex flex-col\">\n",
    "                <div class=\"w-full flex flex-col justify-center\">\n",
    "                    <div class=\"flex self-center rounded-full w-24 h-24 bg-slate-100\">JJ</div>\n",
    "                    <p class=\"flex\">jack jack</p>\n",
    "                </div>\n",
    "                <div class=\"w-full flex flex-row justify-between\">\n",
    "                    <div class=\"flex \">Back btn</div>\n",
    "                    <div class=\"flex\">FT btn</div>\n",
    "                </div>\n",
    "            </div>\n",
    "            {0}\n",
    "            </div>'''\n",
    "\n",
    "messageFrame = '''<p class=\"{0}\">{1}</p>'''\n",
    "\n",
    "final = frame.format(message)\n",
    "print(final)\n",
    "\n",
    "\n",
    "with open('Elon - Sample.csv', newline='') as csvfile:\n",
    "    reader = csv.DictReader(csvfile)\n",
    "    for row in reader:\n",
    "        if row['Sender'] == \"Self\":\n",
    "            html.append(stuff.format(selfclass, row['Content']))\n",
    "        else:\n",
    "            html.append(stuff.format(otherclass, row['Content']))\n",
    "\n",
    "#     print(html)"
   ]
  },
  {
   "cell_type": "code",
   "execution_count": null,
   "id": "a16718dc",
   "metadata": {},
   "outputs": [],
   "source": []
  }
 ],
 "metadata": {
  "kernelspec": {
   "display_name": "Python 3 (ipykernel)",
   "language": "python",
   "name": "python3"
  },
  "language_info": {
   "codemirror_mode": {
    "name": "ipython",
    "version": 3
   },
   "file_extension": ".py",
   "mimetype": "text/x-python",
   "name": "python",
   "nbconvert_exporter": "python",
   "pygments_lexer": "ipython3",
   "version": "3.10.0"
  }
 },
 "nbformat": 4,
 "nbformat_minor": 5
}
