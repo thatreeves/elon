{
 "cells": [
  {
   "cell_type": "code",
   "execution_count": 32,
   "id": "3f1ca909",
   "metadata": {},
   "outputs": [
    {
     "name": "stdout",
     "output_type": "stream",
     "text": [
      "<div class=\"imessage\">\n",
      "            <div class=\"w-full flex flex-col\">\n",
      "                <div class=\"w-full flex flex-col justify-center\">\n",
      "                    <div class=\"flex self-center rounded-full w-24 h-24 bg-slate-100\">JJ</div>\n",
      "                    <p class=\"flex\">jack jack</p>\n",
      "                </div>\n",
      "                <div class=\"w-full flex flex-row justify-between\">\n",
      "                    <div class=\"flex \">Back btn</div>\n",
      "                    <div class=\"flex\">FT btn</div>\n",
      "                </div>\n",
      "            </div>\n",
      "            <p class=\"from-them\">Elon - are you able to access your Twitter account ok ? I saw a number of emails held in spam .\n",
      "Including some password resets attempts</p><p class=\"from-me\">I haven't tried recently</p><p class=\"from-me\">Am staying off twitter</p><p class=\"from-me\">Is my twitter account posting anything ?</p><p class=\"from-them\">Not posting but I see one deactivation email and a dozen password reset emails . Assuming\n",
      "this is a scammer attempt but wanted to check to ensure you still had access to your Twitter</p><p class=\"from-me\">It is someone trying to hack my twitter</p><p class=\"from-me\">But I have two - factor enabled with the confirmation app</p><p class=\"from-them\">OK , great to hear .</p><p class=\"from-them\">Yes - FaceTimed with them to confirm my identity ( hah ) and they are hopefully gonna reset\n",
      "your ZFA to SMS soon . Asking for an update now</p><p class=\"from-me\">Sounds good</p><p class=\"from-me\">I can also FaceTime with them if still a problem</p><p class=\"from-them\">Tldr ; your account is considered high profile internally over there . So they've made it very\n",
      "hard to make changes like this by their teams . They are working through it ....</p><p class=\"from-me\">Happy to FaceTime directly</p><p class=\"from-me\">Not sure how I was able to make Twitter work on this new phone , as I didn't use the backup\n",
      "code .</p><p class=\"from-them\">Connecting with their head of Trust & Safety now</p><p class=\"from-them\">I assume we used your old phone to verify the new , once upon a time</p><p class=\"from-me\">Oh yeah</p><p class=\"from-them\">They can fix it by disabling all 2FA for your account which will let you in and then you can re\n",
      "enable it . Are you available in 90 mins to have them coordinate it ?</p><p class=\"from-me\">Liked \" They can fix it by disabling all 2FA for your account which will let you in and then you\n",
      "can re - enable it . Are you available in 90 mins to have them coordinate it ? \"</p><p class=\"from-them\">I know things are in flux right now , but is EMDesk SpaceX still your primary calendar ? I realize\n",
      "there a meeting on there in 1 hour . In case I should move this twitter fix out a bit .</p><p class=\"from-me\">Yeah</p><p class=\"from-me\">But I can step off the call briefly to FaceTime them if need be</p><p class=\"from-them\">Sounds good . And ideally I'm just texting you to sign in once they disable 2FA and then you\n",
      "can immediately sign in and re - enable . No FaceTime needed .</p><p class=\"from-me\">Liked \" Sounds good . And ideally I'm just texting you to sign in once they disable 2FA and then\n",
      "you can immediately sign in and re - enable . No FaceTime needed . \"</p><p class=\"from-them\">Elon- we are ready to make the change if you are</p><p class=\"from-me\">Liked \" Elon - we are ready to make the change if you are \"</p><p class=\"from-them\">2FA disabled . Please try to log in now</p><p class=\"from-them\">Able to get back in ok ?</p><p class=\"from-me\">Liked \" Able to get back in ok ? \"</p><p class=\"from-them\">And once in you can enable 2FA Settings > Security and account access > Security > 2FA</p><p class=\"from-them\">App only is suggested</p><p class=\"from-me\">Thanks !</p><p class=\"from-them\">And reminder to save that backup code</p>\n",
      "            </div>\n"
     ]
    }
   ],
   "source": [
    "import csv\n",
    "stuff = \"<div class='imessage {0}'>{1}</div>\"\n",
    "selfclass=\"from-me\"\n",
    "otherclass=\"from-them\"\n",
    "\n",
    "frame = '''<div class=\"imessage\">\n",
    "            <div class=\"w-full flex flex-col\">\n",
    "                <div class=\"w-full flex flex-col justify-center\">\n",
    "                    <div class=\"flex self-center rounded-full w-24 h-24 bg-slate-100\">JJ</div>\n",
    "                    <p class=\"flex\">jack jack</p>\n",
    "                </div>\n",
    "                <div class=\"w-full flex flex-row justify-between\">\n",
    "                    <div class=\"flex \">Back btn</div>\n",
    "                    <div class=\"flex\">FT btn</div>\n",
    "                </div>\n",
    "            </div>\n",
    "            {0}\n",
    "            </div>'''\n",
    "\n",
    "messageFrame = '''<p class=\"{0}\">{1}</p>'''\n",
    "final = frame.format(message)\n",
    "\n",
    "messageBlock = \"\"\n",
    "\n",
    "with open('Elon - Sample.csv', newline='') as csvfile:\n",
    "    reader = csv.DictReader(csvfile)\n",
    "    \n",
    "    for row in reader:\n",
    "        if row['Sender'] == \"Self\":\n",
    "            messageBlock = messageBlock+(messageFrame.format(selfclass, row['Content']))\n",
    "        else:\n",
    "            messageBlock = messageBlock+(messageFrame.format(otherclass, row['Content']))\n",
    "        finalHTML = frame.format(messageBlock)\n",
    "\n",
    "        \n",
    "####    \n",
    "####        \n",
    "# Creating an HTML file\n",
    "Func = open(\"GFG-1.html\",\"w\")\n",
    "   \n",
    "# Adding input data to the HTML file\n",
    "Func.write(finalHTML)\n",
    "              \n",
    "# Saving the data into the HTML file\n",
    "Func.close()\n",
    "\n",
    "print(finalHTML)"
   ]
  },
  {
   "cell_type": "code",
   "execution_count": null,
   "id": "a16718dc",
   "metadata": {},
   "outputs": [],
   "source": []
  }
 ],
 "metadata": {
  "kernelspec": {
   "display_name": "Python 3 (ipykernel)",
   "language": "python",
   "name": "python3"
  },
  "language_info": {
   "codemirror_mode": {
    "name": "ipython",
    "version": 3
   },
   "file_extension": ".py",
   "mimetype": "text/x-python",
   "name": "python",
   "nbconvert_exporter": "python",
   "pygments_lexer": "ipython3",
   "version": "3.10.0"
  }
 },
 "nbformat": 4,
 "nbformat_minor": 5
}
